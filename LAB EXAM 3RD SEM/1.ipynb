{
 "cells": [
  {
   "cell_type": "code",
   "execution_count": 34,
   "metadata": {},
   "outputs": [],
   "source": [
    "import numpy as np"
   ]
  },
  {
   "cell_type": "code",
   "execution_count": 26,
   "metadata": {},
   "outputs": [],
   "source": [
    "import pandas as pd"
   ]
  },
  {
   "cell_type": "code",
   "execution_count": 27,
   "metadata": {},
   "outputs": [],
   "source": [
    "data = pd.read_csv(\"AQI_Data.csv\")"
   ]
  },
  {
   "cell_type": "code",
   "execution_count": 28,
   "metadata": {},
   "outputs": [
    {
     "name": "stdout",
     "output_type": "stream",
     "text": [
      "First 5 rows of the dataset:\n",
      "    City        Date  AQI  PM2.5  PM10        NO2        CO          O3  \\\n",
      "0  Delhi  2024-01-01  152    153   151  26.509131  1.581413  123.401530   \n",
      "1  Delhi  2024-01-02  264    288   268  87.955853  1.242119  144.533790   \n",
      "2  Delhi  2024-01-03  307    344   357  94.469744  0.101480  198.520196   \n",
      "3  Delhi  2024-01-04  363    334   347  12.075618  1.097072   85.973585   \n",
      "4  Delhi  2024-01-05  237    266   250  51.046299  1.591834   47.938019   \n",
      "\n",
      "         SO2  \n",
      "0  25.062474  \n",
      "1   5.926302  \n",
      "2  32.786668  \n",
      "3   7.099955  \n",
      "4  28.140550  \n"
     ]
    }
   ],
   "source": [
    "# Display the 5 rows\n",
    "print(\"First 5 rows of the dataset:\")\n",
    "\n",
    "print(data.head(5))"
   ]
  },
  {
   "cell_type": "code",
   "execution_count": 29,
   "metadata": {},
   "outputs": [
    {
     "name": "stdout",
     "output_type": "stream",
     "text": [
      "Last 6 rows of the dataset:\n",
      "      City        Date  AQI  PM2.5  PM10        NO2        CO          O3  \\\n",
      "2556  Pune  2024-12-26   80     95    82  88.809636  0.497454  129.043801   \n",
      "2557  Pune  2024-12-27  419    448   462  26.701714  1.553582   86.973954   \n",
      "2558  Pune  2024-12-28  252    202   182  19.920962  1.599821   41.939484   \n",
      "2559  Pune  2024-12-29  365    414   410  80.815702  1.919950   39.982167   \n",
      "2560  Pune  2024-12-30  253    269   285  66.231614  0.611800   63.966705   \n",
      "2561  Pune  2024-12-31   95    140   117  99.505459  0.122817  112.774765   \n",
      "\n",
      "            SO2  \n",
      "2556   8.657624  \n",
      "2557  44.263423  \n",
      "2558  20.545087  \n",
      "2559  22.646297  \n",
      "2560  10.580135  \n",
      "2561  30.814997  \n"
     ]
    }
   ],
   "source": [
    "print(\"Last 6 rows of the dataset:\")\n",
    "print(data.tail(6))"
   ]
  },
  {
   "cell_type": "code",
   "execution_count": 30,
   "metadata": {},
   "outputs": [
    {
     "name": "stdout",
     "output_type": "stream",
     "text": [
      "Summary Statistics of all numeric columns:\n"
     ]
    },
    {
     "data": {
      "text/html": [
       "<div>\n",
       "<style scoped>\n",
       "    .dataframe tbody tr th:only-of-type {\n",
       "        vertical-align: middle;\n",
       "    }\n",
       "\n",
       "    .dataframe tbody tr th {\n",
       "        vertical-align: top;\n",
       "    }\n",
       "\n",
       "    .dataframe thead th {\n",
       "        text-align: right;\n",
       "    }\n",
       "</style>\n",
       "<table border=\"1\" class=\"dataframe\">\n",
       "  <thead>\n",
       "    <tr style=\"text-align: right;\">\n",
       "      <th></th>\n",
       "      <th>AQI</th>\n",
       "      <th>PM2.5</th>\n",
       "      <th>PM10</th>\n",
       "      <th>NO2</th>\n",
       "      <th>CO</th>\n",
       "      <th>O3</th>\n",
       "      <th>SO2</th>\n",
       "    </tr>\n",
       "  </thead>\n",
       "  <tbody>\n",
       "    <tr>\n",
       "      <th>count</th>\n",
       "      <td>2562.000000</td>\n",
       "      <td>2562.000000</td>\n",
       "      <td>2562.000000</td>\n",
       "      <td>2562.000000</td>\n",
       "      <td>2562.000000</td>\n",
       "      <td>2562.000000</td>\n",
       "      <td>2562.000000</td>\n",
       "    </tr>\n",
       "    <tr>\n",
       "      <th>mean</th>\n",
       "      <td>277.635051</td>\n",
       "      <td>276.738486</td>\n",
       "      <td>275.988290</td>\n",
       "      <td>54.151115</td>\n",
       "      <td>1.037476</td>\n",
       "      <td>104.832673</td>\n",
       "      <td>27.746349</td>\n",
       "    </tr>\n",
       "    <tr>\n",
       "      <th>std</th>\n",
       "      <td>128.603738</td>\n",
       "      <td>131.015126</td>\n",
       "      <td>131.900856</td>\n",
       "      <td>25.744072</td>\n",
       "      <td>0.560294</td>\n",
       "      <td>54.878784</td>\n",
       "      <td>12.927527</td>\n",
       "    </tr>\n",
       "    <tr>\n",
       "      <th>min</th>\n",
       "      <td>50.000000</td>\n",
       "      <td>2.000000</td>\n",
       "      <td>-26.000000</td>\n",
       "      <td>10.036926</td>\n",
       "      <td>0.100100</td>\n",
       "      <td>10.045129</td>\n",
       "      <td>5.000524</td>\n",
       "    </tr>\n",
       "    <tr>\n",
       "      <th>25%</th>\n",
       "      <td>166.250000</td>\n",
       "      <td>165.000000</td>\n",
       "      <td>166.000000</td>\n",
       "      <td>32.025372</td>\n",
       "      <td>0.545341</td>\n",
       "      <td>58.169877</td>\n",
       "      <td>16.685076</td>\n",
       "    </tr>\n",
       "    <tr>\n",
       "      <th>50%</th>\n",
       "      <td>276.000000</td>\n",
       "      <td>274.500000</td>\n",
       "      <td>274.000000</td>\n",
       "      <td>53.606459</td>\n",
       "      <td>1.010095</td>\n",
       "      <td>104.345545</td>\n",
       "      <td>27.872017</td>\n",
       "    </tr>\n",
       "    <tr>\n",
       "      <th>75%</th>\n",
       "      <td>388.750000</td>\n",
       "      <td>388.000000</td>\n",
       "      <td>386.000000</td>\n",
       "      <td>76.322683</td>\n",
       "      <td>1.533300</td>\n",
       "      <td>152.515574</td>\n",
       "      <td>38.878445</td>\n",
       "    </tr>\n",
       "    <tr>\n",
       "      <th>max</th>\n",
       "      <td>499.000000</td>\n",
       "      <td>543.000000</td>\n",
       "      <td>559.000000</td>\n",
       "      <td>99.974242</td>\n",
       "      <td>1.999528</td>\n",
       "      <td>199.979607</td>\n",
       "      <td>49.976055</td>\n",
       "    </tr>\n",
       "  </tbody>\n",
       "</table>\n",
       "</div>"
      ],
      "text/plain": [
       "               AQI        PM2.5         PM10          NO2           CO  \\\n",
       "count  2562.000000  2562.000000  2562.000000  2562.000000  2562.000000   \n",
       "mean    277.635051   276.738486   275.988290    54.151115     1.037476   \n",
       "std     128.603738   131.015126   131.900856    25.744072     0.560294   \n",
       "min      50.000000     2.000000   -26.000000    10.036926     0.100100   \n",
       "25%     166.250000   165.000000   166.000000    32.025372     0.545341   \n",
       "50%     276.000000   274.500000   274.000000    53.606459     1.010095   \n",
       "75%     388.750000   388.000000   386.000000    76.322683     1.533300   \n",
       "max     499.000000   543.000000   559.000000    99.974242     1.999528   \n",
       "\n",
       "                O3          SO2  \n",
       "count  2562.000000  2562.000000  \n",
       "mean    104.832673    27.746349  \n",
       "std      54.878784    12.927527  \n",
       "min      10.045129     5.000524  \n",
       "25%      58.169877    16.685076  \n",
       "50%     104.345545    27.872017  \n",
       "75%     152.515574    38.878445  \n",
       "max     199.979607    49.976055  "
      ]
     },
     "execution_count": 30,
     "metadata": {},
     "output_type": "execute_result"
    }
   ],
   "source": [
    "print(\"Summary Statistics of all numeric columns:\")\n",
    "data.describe()\n"
   ]
  },
  {
   "cell_type": "code",
   "execution_count": null,
   "metadata": {},
   "outputs": [
    {
     "name": "stdout",
     "output_type": "stream",
     "text": [
      "city: Bangalore, Mean AQI: 279.54371584699453, Mean PM2.5: 278.46994535519127, Mean PM10: 277.75956284153006\n",
      "city: Chennai, Mean AQI: 274.3142076502732, Mean PM2.5: 275.1393442622951, Mean PM10: 273.26502732240436\n",
      "city: Delhi, Mean AQI: 279.1530054644809, Mean PM2.5: 279.89890710382514, Mean PM10: 279.3497267759563\n",
      "city: Hyderabad, Mean AQI: 280.3551912568306, Mean PM2.5: 277.8251366120219, Mean PM10: 276.45628415300547\n",
      "city: Kolkata, Mean AQI: 265.9016393442623, Mean PM2.5: 264.6639344262295, Mean PM10: 263.6448087431694\n",
      "city: Mumbai, Mean AQI: 287.7978142076503, Mean PM2.5: 286.0464480874317, Mean PM10: 286.6693989071038\n",
      "city: Pune, Mean AQI: 276.379781420765, Mean PM2.5: 275.1256830601093, Mean PM10: 274.77322404371586\n"
     ]
    }
   ],
   "source": [
    "# Mean of AQI, PM2.5, PM10 for each city\n",
    "cities = data['City'].values\n",
    "aqi = data['AQI'].values\n",
    "pm25 = data['PM2.5'].values\n",
    "pm10 = data['PM10'].values\n",
    "\n",
    "unique_cities = np.unique(cities)\n",
    "\n",
    "for city in unique_cities:\n",
    "    city_mask = cities == city\n",
    "    mean_aqi = np.mean(aqi[city_mask])\n",
    "    mean_pm25 = np.mean(pm25[city_mask])\n",
    "    mean_pm10 = np.mean(pm10[city_mask])\n",
    "\n",
    "    print(f\"city: {city}, Mean AQI: {mean_aqi}, Mean PM2.5: {mean_pm25}, Mean PM10: {mean_pm10}\")"
   ]
  },
  {
   "cell_type": "code",
   "execution_count": 32,
   "metadata": {},
   "outputs": [
    {
     "name": "stdout",
     "output_type": "stream",
     "text": [
      "Missing data in each column:\n",
      "City     0\n",
      "Date     0\n",
      "AQI      0\n",
      "PM2.5    0\n",
      "PM10     0\n",
      "NO2      0\n",
      "CO       0\n",
      "O3       0\n",
      "SO2      0\n",
      "dtype: int64\n",
      "\n",
      "Updated DataFrame after replacing missing values:\n",
      "    City        Date  AQI  PM2.5  PM10        NO2        CO          O3  \\\n",
      "0  Delhi  2024-01-01  152    153   151  26.509131  1.581413  123.401530   \n",
      "1  Delhi  2024-01-02  264    288   268  87.955853  1.242119  144.533790   \n",
      "2  Delhi  2024-01-03  307    344   357  94.469744  0.101480  198.520196   \n",
      "3  Delhi  2024-01-04  363    334   347  12.075618  1.097072   85.973585   \n",
      "4  Delhi  2024-01-05  237    266   250  51.046299  1.591834   47.938019   \n",
      "\n",
      "         SO2  \n",
      "0  25.062474  \n",
      "1   5.926302  \n",
      "2  32.786668  \n",
      "3   7.099955  \n",
      "4  28.140550  \n"
     ]
    }
   ],
   "source": [
    "# Check for missing data in the dataset\n",
    "print(\"Missing data in each column:\")\n",
    "print(data.isnull().sum())\n",
    "\n",
    "# Replace missing values in numeric columns with the column mean\n",
    "numeric_columns = data.select_dtypes(include=['float64', 'int64']).columns\n",
    "data[numeric_columns] = data[numeric_columns].apply(lambda col: col.fillna(col.mean()), axis=0)\n",
    "\n",
    "# Print the updated DataFrame\n",
    "print(\"\\nUpdated DataFrame after replacing missing values:\")\n",
    "print(data.head())"
   ]
  },
  {
   "cell_type": "code",
   "execution_count": 33,
   "metadata": {},
   "outputs": [
    {
     "name": "stdout",
     "output_type": "stream",
     "text": [
      "Mean AQI: 277.6350507416081\n",
      "Median AQI: 276.0\n",
      "Standard Deviation of AQI: 128.57863723548584\n"
     ]
    }
   ],
   "source": [
    "# Extract the AQI column as a NumPy array. Calculate and display the mean, median and standard deviation of the AQI values.import pandas as pd\n",
    "# Extract the AQI column as a NumPy array\n",
    "aqi_values = data['AQI'].to_numpy()\n",
    "\n",
    "# Calculate statistical measures\n",
    "mean_aqi = np.mean(aqi_values)\n",
    "median_aqi = np.median(aqi_values)\n",
    "std_dev_aqi = np.std(aqi_values)\n",
    "\n",
    "# Display the results\n",
    "print(f\"Mean AQI: {mean_aqi}\")\n",
    "print(f\"Median AQI: {median_aqi}\")\n",
    "print(f\"Standard Deviation of AQI: {std_dev_aqi}\")"
   ]
  },
  {
   "cell_type": "code",
   "execution_count": null,
   "metadata": {},
   "outputs": [],
   "source": []
  }
 ],
 "metadata": {
  "kernelspec": {
   "display_name": "base",
   "language": "python",
   "name": "python3"
  },
  "language_info": {
   "codemirror_mode": {
    "name": "ipython",
    "version": 3
   },
   "file_extension": ".py",
   "mimetype": "text/x-python",
   "name": "python",
   "nbconvert_exporter": "python",
   "pygments_lexer": "ipython3",
   "version": "3.12.7"
  }
 },
 "nbformat": 4,
 "nbformat_minor": 2
}
